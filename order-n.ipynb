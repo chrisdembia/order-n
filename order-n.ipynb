{
 "metadata": {
  "kernelspec": {
   "codemirror_mode": {
    "name": "ipython",
    "version": 2
   },
   "display_name": "IPython (Python 2)",
   "language": "python",
   "name": "python2"
  },
  "name": "",
  "signature": "sha256:140ed85ad3162331be94c51da3daaa3c5279bac266ffdb63aed1880876398b60"
 },
 "nbformat": 3,
 "nbformat_minor": 0,
 "worksheets": [
  {
   "cells": [
    {
     "cell_type": "markdown",
     "metadata": {},
     "source": [
      "$$\n",
      "\\newcommand\\v[1]{ \\vec{#1} }\n",
      "\\newcommand\\pos[2]{\\vec{r}^{\\mathrm{#1}/\\mathrm{#2}}}\n",
      "\\newcommand\\vel[2]{ {}^{\\mathrm{#2}} \\vec{v}^{\\mathrm{#1}}}\n",
      "\\newcommand\\acc[2]{ {}^{\\mathrm{#2}} \\vec{a}^{\\mathrm{#1}}}\n",
      "\\newcommand\\avel[2]{ {}^{\\mathrm{#2}} \\vec{\\omega}^{\\mathrm{#1}}}\n",
      "\\newcommand\\aacc[2]{ {}^{\\mathrm{#2}} \\vec{\\alpha}^{\\mathrm{#1}}}\n",
      "\\newcommand\\mass[1]{m_{\\mathrm{#1}}}\n",
      "\\newcommand\\acctwo[4]{\\acc{#3}{#2} + \\aacc{#4}{#2} \\times \\pos{#1}{#3} + \\avel{#4}{#2} \\times (\\avel{#4}{#2} \\times \\pos{#1}{#3})}\n",
      "\\newcommand\\aveladd[3]{ \\avel{#2}{#1} + \\avel{#3}{#2} }\n",
      "\\newcommand\\aaccadd[3]{ \\aacc{#2}{#1} + \\aacc{#3}{#2} + \\avel{#2}{#1} \\times \\avel{#3}{#2} }\n",
      "\\newcommand\\expr[2]{ [#1]_{#2} }\n",
      "\\newcommand\\rot[2]{ {}^{\\mathrm{#2}} R^{\\mathrm{#1}} }\n",
      "\\newcommand\\q[1]{q_{\\mathrm{#1}}}\n",
      "\\newcommand\\qd[1]{\\dot{q}_{\\mathrm{#1}}}\n",
      "\\newcommand\\qdd[1]{\\ddot{q}_{\\mathrm{#1}}}\n",
      "\\newcommand\\u[2]{ \\hat{#1}_{\\mathrm{#2}} }\n",
      "\\newcommand\\deriv[2]{ \\frac{{}^{#1}d}{dt} #2}\n",
      "$$"
     ]
    },
    {
     "cell_type": "code",
     "collapsed": false,
     "input": [
      "from IPython.display import display, Math, Latex"
     ],
     "language": "python",
     "metadata": {},
     "outputs": [],
     "prompt_number": 1
    },
    {
     "cell_type": "markdown",
     "metadata": {},
     "source": [
      "%%latex\n",
      "\\begin{align}\n",
      "\\v{F} &= \\mass{S} \\acc{Scm}{N} \\\\\n",
      "\\v{R}^A + \\v{F}^A + \\v{F}^B + \\v{F}^C &= \\mass{A} \\acc{Acm}{N} + \\mass{B} \\acc{Bcm}{N} + \\mass{C} \\acc{Ccm}{N} \\\\\n",
      "\\end{align}"
     ]
    },
    {
     "cell_type": "markdown",
     "metadata": {},
     "source": [
      "A\n",
      "\n",
      "%%latex\n",
      "\\begin{align}\n",
      "\\acc{Acm}{N} &= \\acctwo{Acm}{N}{Ao}{A} \\\\\n",
      "\\acc{Ao}{N} &= \\acc{No}{N} = \\vec{0} \\\\\n",
      "\\avel{A}{N} &= \\qd{A} \\u{a}{z}\\\\\n",
      "\\aacc{A}{N} &= \\deriv{N}{\\avel{A}{N}} = \\qdd{A} \\u{a}{z}\\\\\n",
      "\\end{align}"
     ]
    },
    {
     "cell_type": "markdown",
     "metadata": {},
     "source": [
      "B\n",
      "\n",
      "%%latex\n",
      "\\begin{align}\n",
      "\\acc{Bcm}{N} &= \\acctwo{Bcm}{N}{Bo}{B} \\\\\n",
      "\\acc{Bo}{N} &= \\acctwo{Bo}{N}{Ao}{A} \\\\\n",
      "\\aacc{B}{N} &= \\aaccadd{N}{A}{B} \\\\\n",
      "\\avel{B}{A} &= \\qd{B} \\u{b}{z} \\\\\n",
      "\\aacc{B}{A} &= \\qdd{B} \\u{b}{z} \\\\\n",
      "\\avel{B}{N} &= \\aveladd{N}{A}{B} \\\\\n",
      "\\end{align}"
     ]
    },
    {
     "cell_type": "markdown",
     "metadata": {},
     "source": [
      "C\n",
      "\n",
      "%%latex\n",
      "\\begin{align}\n",
      "\\acc{Ccm}{N} &= \\acctwo{Ccm}{N}{Co}{C} \\\\\n",
      "\\aacc{C}{N} &= \\aaccadd{N}{B}{C} \\\\\n",
      "\\avel{C}{N} &= \\aveladd{N}{B}{C} \\\\\n",
      "\\end{align}"
     ]
    },
    {
     "cell_type": "heading",
     "level": 1,
     "metadata": {},
     "source": [
      "Position sweep"
     ]
    },
    {
     "cell_type": "markdown",
     "metadata": {},
     "source": [
      "%%latex\n",
      "\\begin{align}\n",
      "\\expr{\\pos{Acm}{Ao}}{N} = \\rot{A}{N} \\expr{\\pos{Acm}{Ao}}{A}\n",
      "\\end{align}"
     ]
    },
    {
     "cell_type": "heading",
     "level": 1,
     "metadata": {},
     "source": [
      "Velocity sweep"
     ]
    },
    {
     "cell_type": "markdown",
     "metadata": {},
     "source": [
      "%%latex\n",
      "\\begin{align}\n",
      "\\avel{A}{N} = \\qd{A} \\u{a}{z} \\\\\n",
      "\\avel{B}{A} = \\qd{B} \\u{b}{z} \\\\\n",
      "\\avel{C}{B} = \\qd{C} \\u{c}{z} \\\\\n",
      "\\end{align}"
     ]
    },
    {
     "cell_type": "markdown",
     "metadata": {},
     "source": []
    }
   ],
   "metadata": {}
  }
 ]
}