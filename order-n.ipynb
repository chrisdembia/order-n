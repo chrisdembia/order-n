{
 "metadata": {
  "kernelspec": {
   "codemirror_mode": {
    "name": "ipython",
    "version": 2
   },
   "display_name": "IPython (Python 2)",
   "language": "python",
   "name": "python2"
  },
  "name": "",
  "signature": "sha256:15adb1674bcb73cea33e12c06c206260e2f351845aa4c442d365117f9a937c39"
 },
 "nbformat": 3,
 "nbformat_minor": 0,
 "worksheets": [
  {
   "cells": [
    {
     "cell_type": "markdown",
     "metadata": {},
     "source": [
      "$$\n",
      "\\newcommand\\v[1]{ \\vec{#1} }\n",
      "\\newcommand\\pos[2]{\\vec{r}^{\\mathrm{#1}/\\mathrm{#2}}}\n",
      "\\newcommand\\vel[2]{ {}^{\\mathrm{#2}} \\vec{v}^{\\mathrm{#1}}}\n",
      "\\newcommand\\acc[2]{ {}^{\\mathrm{#2}} \\vec{a}^{\\mathrm{#1}}}\n",
      "\\newcommand\\avel[2]{ {}^{\\mathrm{#2}} \\vec{\\omega}^{\\mathrm{#1}}}\n",
      "\\newcommand\\aacc[2]{ {}^{\\mathrm{#2}} \\vec{\\alpha}^{\\mathrm{#1}}}\n",
      "\\newcommand\\mass[1]{m_{\\mathrm{#1}}}\n",
      "\\newcommand\\acctwo[4]{\\acc{#3}{#2} + \\aacc{#4}{#2} \\times \\pos{#1}{#3} + \\avel{#4}{#2} \\times (\\avel{#4}{#2} \\times \\pos{#1}{#3})}\n",
      "\\newcommand\\aveladd[3]{ \\avel{#2}{#1} + \\avel{#3}{#2} }\n",
      "\\newcommand\\aaccadd[3]{ \\aacc{#2}{#1} + \\aacc{#3}{#2} + \\avel{#2}{#1} \\times \\avel{#3}{#2} }\n",
      "\\newcommand\\expr[2]{ [#1]_{#2} }\n",
      "\\newcommand\\rot[2]{ {}^{\\mathrm{#2}} R^{\\mathrm{#1}} }\n",
      "\\newcommand\\q[1]{q_{\\mathrm{#1}}}\n",
      "\\newcommand\\qd[1]{\\dot{q}_{\\mathrm{#1}}}\n",
      "\\newcommand\\u[2]{ \\hat{#1}_{\\mathrm{#2}} }\n",
      "$$"
     ]
    },
    {
     "cell_type": "code",
     "collapsed": false,
     "input": [
      "from IPython.display import display, Math, Latex"
     ],
     "language": "python",
     "metadata": {},
     "outputs": [],
     "prompt_number": 2
    },
    {
     "cell_type": "markdown",
     "metadata": {},
     "source": [
      "%%latex\n",
      "\\begin{align}\n",
      "\\v{F} = \\mass{S} \\acc{Scm}{N} \\\\\n",
      "\\v{R}^A + \\v{F}^A + \\v{F}^B + \\v{F}^C = \\mass{A} \\acc{Acm}{N} + \\mass{B} \\acc{Bcm}{N} + \\mass{C} \\acc{Ccm}{N} \\\\\n",
      "\\acc{Acm}{N} = \\acctwo{Acm}{N}{Ao}{A} \\\\\n",
      "\\avel{B}{N} = \\aveladd{N}{A}{B} \\\\\n",
      "\\aacc{B}{N} = \\aaccadd{N}{A}{B} \\\\\n",
      "\\acc{Bcm}{N} = \\acctwo{Bcm}{N}{Bo}{B} \\\\\n",
      "\\acc{Bo}{N} = \\acctwo{Bo}{N}{Ao}{A} \\\\\n",
      "\\avel{C}{N} = \\aveladd{N}{B}{C} \\\\\n",
      "\\aacc{C}{N} = \\aaccadd{N}{B}{C} \\\\\n",
      "\\acc{Ccm}{N} = \\acctwo{Ccm}{N}{Co}{C} \\\\\n",
      "\\end{align}"
     ]
    },
    {
     "cell_type": "heading",
     "level": 1,
     "metadata": {},
     "source": [
      "Position sweep"
     ]
    },
    {
     "cell_type": "markdown",
     "metadata": {},
     "source": [
      "%%latex\n",
      "\\begin{align}\n",
      "\\expr{\\pos{Acm}{Ao}}{N} = \\rot{A}{N} \\expr{\\pos{Acm}{Ao}}{A}\n",
      "\\end{align}"
     ]
    },
    {
     "cell_type": "heading",
     "level": 1,
     "metadata": {},
     "source": [
      "Velocity sweep"
     ]
    },
    {
     "cell_type": "markdown",
     "metadata": {},
     "source": [
      "%%latex\n",
      "\\begin{align}\n",
      "\\avel{A}{N} = \\qd{A} \\u{a}{z} \\\\\n",
      "\\avel{B}{A} = \\qd{B} \\u{b}{z} \\\\\n",
      "\\avel{C}{B} = \\qd{C} \\u{c}{z} \\\\\n",
      "\\end{align}"
     ]
    },
    {
     "cell_type": "markdown",
     "metadata": {},
     "source": []
    }
   ],
   "metadata": {}
  }
 ]
}